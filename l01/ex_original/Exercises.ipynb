{
 "cells": [
  {
   "cell_type": "markdown",
   "metadata": {},
   "source": [
    "## 1. Merge sort"
   ]
  },
  {
   "cell_type": "code",
   "execution_count": 5,
   "metadata": {},
   "outputs": [],
   "source": [
    "def merge(left, right):\n",
    "    '''\n",
    "    Given two sorted list, return the merged sorted list.\n",
    "    '''\n",
    "    result = []\n",
    "    ''' YOUR CODE HERE '''\n",
    "    return result\n",
    "\n",
    "assert merge([], []) == []\n",
    "assert merge([], [1, 2, 3]) == [1, 2, 3]\n",
    "assert merge([1, 3, 5], [2, 4, 6]) == [1, 2, 3, 4, 5, 6]"
   ]
  },
  {
   "cell_type": "code",
   "execution_count": 11,
   "metadata": {},
   "outputs": [],
   "source": [
    "def merge_sort(nums):\n",
    "    ''' \n",
    "    sort a list using merge sort algorithm\n",
    "    hint: use merge method you have written before.\n",
    "    '''\n",
    "    ''' YOUR CODE HERE '''\n",
    "\n",
    "assert merge_sort([]) == []\n",
    "assert merge_sort([1]) == [1]\n",
    "assert merge_sort([6, 3, 2, 4, 5, 1]) == [1, 2, 3, 4, 5, 6]"
   ]
  },
  {
   "cell_type": "markdown",
   "metadata": {},
   "source": [
    "## 2. Newton's method \n",
    "Problem: Find $x$ such that $f(x) = 0$.\n",
    "Algorithm:  \n",
    "  Initialize $x_0$  \n",
    "  Repeat the process until a sufficiently value is reached:  \n",
    "        $x_{n+1}=x_n-\\frac{f(x_n)}{f'(x_n)}$"
   ]
  },
  {
   "cell_type": "markdown",
   "metadata": {},
   "source": [
    "### 2.1. Find square root"
   ]
  },
  {
   "cell_type": "code",
   "execution_count": 15,
   "metadata": {},
   "outputs": [],
   "source": [
    "def sqrt(y, epsilon=1e-15):\n",
    "    '''Write function to compute y'''\n",
    "    assert y > 0\n",
    "    '''YOUR CODE HERE'''\n",
    "    "
   ]
  },
  {
   "cell_type": "code",
   "execution_count": 17,
   "metadata": {},
   "outputs": [
    {
     "name": "stdout",
     "output_type": "stream",
     "text": [
      "1.0\n",
      "1.414213562373095\n",
      "5.0\n",
      "10.0\n"
     ]
    }
   ],
   "source": [
    "print (sqrt(1))\n",
    "print (sqrt(2))\n",
    "print (sqrt(25))\n",
    "print (sqrt(100))"
   ]
  },
  {
   "cell_type": "markdown",
   "metadata": {},
   "source": [
    "### 2.2 Find one root of the equation $4x^4+5x^3-2x^2+3x+7=1000$"
   ]
  },
  {
   "cell_type": "code",
   "execution_count": 34,
   "metadata": {},
   "outputs": [],
   "source": [
    "def f(x):\n",
    "    ''' Evaluate f(x)'''\n",
    "    '''YOUR CODE HERE'''\n",
    "    "
   ]
  },
  {
   "cell_type": "code",
   "execution_count": 35,
   "metadata": {},
   "outputs": [],
   "source": [
    "def df(x):\n",
    "    ''' Evaluate f'(x)'''\n",
    "    '''YOUR CODE HERE'''\n",
    "    "
   ]
  },
  {
   "cell_type": "code",
   "execution_count": 40,
   "metadata": {},
   "outputs": [
    {
     "name": "stdout",
     "output_type": "stream",
     "text": [
      "x =   3.7063101521217656\n",
      "f(x) =  9.119683340941265e-06\n"
     ]
    }
   ],
   "source": [
    "def find_root(epsilon=1e-3):\n",
    "    '''Find one root of the given equation.'''\n",
    "    '''YOUR CODE HERE'''\n",
    "x = find_root()\n",
    "print (\"x =  \", x)\n",
    "print (\"f(x) = \", f(x))"
   ]
  },
  {
   "cell_type": "markdown",
   "metadata": {},
   "source": [
    "### 3. Gaussian elimination"
   ]
  },
  {
   "cell_type": "markdown",
   "metadata": {},
   "source": [
    "Solve the following linear system of equations susing Gaussian elimination.\n",
    "$\\begin{bmatrix} 3 & 4 & 2 & 7 \\\\ 7 & 5 & 1 & 9 \\\\ 8 & 12 & 25 & 3 \\\\ 9 & 11 & 15 & 7 \\end{bmatrix} * \\begin{bmatrix}x \\\\ y \\\\ z \\\\ t \\end{bmatrix} =  \\begin{bmatrix} 129 \\\\ 151 \\\\ 709 \\\\ 505 \\end{bmatrix}$"
   ]
  },
  {
   "cell_type": "code",
   "execution_count": 42,
   "metadata": {},
   "outputs": [],
   "source": [
    "def gaussian_elimination(A, b):\n",
    "    ''' \n",
    "    This function performs Gaussian elimination on \n",
    "    augmented marix A|b.\n",
    "    '''\n",
    "    '''YOUR CODE HERE''' "
   ]
  },
  {
   "cell_type": "code",
   "execution_count": null,
   "metadata": {},
   "outputs": [],
   "source": [
    "import numpy as np\n",
    "A = [[3, 4, 2, 7], [7, 5, 1, 9], [8, 12, 25, 3], [9, 11, 15, 7]]\n",
    "b = [129, 151, 709, 505]\n",
    "A, b = gaussian_elimination(A, b)\n",
    "print ('A ', np.array(A))\n",
    "print ('b ', np.array(b))"
   ]
  },
  {
   "cell_type": "code",
   "execution_count": 47,
   "metadata": {},
   "outputs": [],
   "source": [
    "def solve(A, b):\n",
    "    '''\n",
    "    Solve linear system of equations Ax = b.\n",
    "    '''\n",
    "    '''YOUR CODE HERE'''"
   ]
  },
  {
   "cell_type": "code",
   "execution_count": 48,
   "metadata": {},
   "outputs": [
    {
     "name": "stdout",
     "output_type": "stream",
     "text": [
      "[7.000000000000004, 4.999999999999996, 22.999999999999996, 6.000000000000001]\n"
     ]
    }
   ],
   "source": [
    "A = [[3, 4, 2, 7], [7, 5, 1, 9], [8, 12, 25, 3], [9, 11, 15, 7]]\n",
    "b = [129, 151, 709, 505]\n",
    "x = solve(A, b)\n",
    "print (x)"
   ]
  }
 ],
 "metadata": {
  "kernelspec": {
   "display_name": "Python 3",
   "language": "python",
   "name": "python3"
  },
  "language_info": {
   "codemirror_mode": {
    "name": "ipython",
    "version": 3
   },
   "file_extension": ".py",
   "mimetype": "text/x-python",
   "name": "python",
   "nbconvert_exporter": "python",
   "pygments_lexer": "ipython3",
   "version": "3.5.2"
  }
 },
 "nbformat": 4,
 "nbformat_minor": 2
}
