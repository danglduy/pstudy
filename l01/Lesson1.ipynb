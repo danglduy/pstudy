{
 "cells": [
  {
   "cell_type": "code",
   "execution_count": 1,
   "metadata": {
    "colab": {},
    "colab_type": "code",
    "id": "ZldEVl-5ZFGh"
   },
   "outputs": [
    {
     "ename": "ImportError",
     "evalue": "No module named 'google'",
     "output_type": "error",
     "traceback": [
      "\u001b[0;31m---------------------------------------------------------------------------\u001b[0m",
      "\u001b[0;31mImportError\u001b[0m                               Traceback (most recent call last)",
      "\u001b[0;32m<ipython-input-1-b710308612d2>\u001b[0m in \u001b[0;36m<module>\u001b[0;34m\u001b[0m\n\u001b[1;32m      1\u001b[0m \u001b[0;31m## set up the environment\u001b[0m\u001b[0;34m\u001b[0m\u001b[0;34m\u001b[0m\u001b[0m\n\u001b[0;32m----> 2\u001b[0;31m \u001b[0;32mfrom\u001b[0m \u001b[0mgoogle\u001b[0m\u001b[0;34m.\u001b[0m\u001b[0mcolab\u001b[0m \u001b[0;32mimport\u001b[0m \u001b[0mdrive\u001b[0m\u001b[0;34m\u001b[0m\u001b[0m\n\u001b[0m\u001b[1;32m      3\u001b[0m \u001b[0mdrive\u001b[0m\u001b[0;34m.\u001b[0m\u001b[0mmount\u001b[0m\u001b[0;34m(\u001b[0m\u001b[0;34m'/content/drive/'\u001b[0m\u001b[0;34m)\u001b[0m\u001b[0;34m\u001b[0m\u001b[0m\n",
      "\u001b[0;31mImportError\u001b[0m: No module named 'google'"
     ]
    }
   ],
   "source": [
    "## set up the environment\n",
    "from google.colab import drive\n",
    "drive.mount('/content/drive/')"
   ]
  },
  {
   "cell_type": "markdown",
   "metadata": {
    "colab_type": "text",
    "id": "Dx8TbN4rUOEj"
   },
   "source": [
    "## 1. Python standard datatypes"
   ]
  },
  {
   "cell_type": "markdown",
   "metadata": {
    "colab_type": "text",
    "id": "YNUmgtSLUOEl"
   },
   "source": [
    "* boolean: consists of two built-in values `True` and `False`\n",
    "* int: integers, non-limited length in Python 3.x\n",
    "* float: floating-point numbers\n",
    "* complex: complex numbers\n",
    "* str: sequence of Unicode characters in Python 3.x\n",
    "* list\n",
    "* tuple\n",
    "* set: an unordered collection of unique objects\n",
    "* dict: Python dictionaries, associate element of the list with a definition"
   ]
  },
  {
   "cell_type": "code",
   "execution_count": null,
   "metadata": {
    "colab": {},
    "colab_type": "code",
    "id": "6sAedXK0UOEm"
   },
   "outputs": [],
   "source": [
    "### get type of expressions or variables\n",
    "print(type(2 + 5j))"
   ]
  },
  {
   "cell_type": "markdown",
   "metadata": {
    "colab_type": "text",
    "id": "AYasTQTsUOEv"
   },
   "source": [
    "#### String"
   ]
  },
  {
   "cell_type": "markdown",
   "metadata": {
    "colab_type": "text",
    "id": "xFFin73RUOEw"
   },
   "source": [
    "String is a sequence of characters.  \n",
    "To access characters in string, we use bracket operator."
   ]
  },
  {
   "cell_type": "code",
   "execution_count": null,
   "metadata": {
    "colab": {},
    "colab_type": "code",
    "id": "xN2tS4SHUOEx"
   },
   "outputs": [],
   "source": [
    "fruit = 'Banana'\n",
    "fruit[0]"
   ]
  },
  {
   "cell_type": "code",
   "execution_count": null,
   "metadata": {
    "colab": {},
    "colab_type": "code",
    "id": "VCICjSYMUOE3"
   },
   "outputs": [],
   "source": [
    "fruit[0:3]"
   ]
  },
  {
   "cell_type": "markdown",
   "metadata": {
    "colab_type": "text",
    "id": "CvfHr1PLUOE8"
   },
   "source": [
    "The first character of a string has index 0, the last character has index -1."
   ]
  },
  {
   "cell_type": "code",
   "execution_count": null,
   "metadata": {
    "colab": {},
    "colab_type": "code",
    "id": "eL5XGkoxUOE9"
   },
   "outputs": [],
   "source": [
    "print (fruit[0])\n",
    "print (fruit[-1])"
   ]
  },
  {
   "cell_type": "markdown",
   "metadata": {
    "colab_type": "text",
    "id": "yWHQYg8eUOFB"
   },
   "source": [
    "To get the length of the string, we use built-in function `len`"
   ]
  },
  {
   "cell_type": "code",
   "execution_count": null,
   "metadata": {
    "colab": {},
    "colab_type": "code",
    "id": "6sQoDzGCUOFC"
   },
   "outputs": [],
   "source": [
    "len(fruit)"
   ]
  },
  {
   "cell_type": "markdown",
   "metadata": {
    "colab_type": "text",
    "id": "2S6IBdXvUOFI"
   },
   "source": [
    "To check if a string appears as a substring of another string, we use `in` operator."
   ]
  },
  {
   "cell_type": "code",
   "execution_count": null,
   "metadata": {
    "colab": {},
    "colab_type": "code",
    "id": "n0yS-vvrUOFJ"
   },
   "outputs": [],
   "source": [
    "'A' in fruit"
   ]
  },
  {
   "cell_type": "code",
   "execution_count": null,
   "metadata": {
    "colab": {},
    "colab_type": "code",
    "id": "oHhECyPpUOFQ"
   },
   "outputs": [],
   "source": [
    "'B' in fruit"
   ]
  },
  {
   "cell_type": "markdown",
   "metadata": {
    "colab_type": "text",
    "id": "j_G5nNOgUOFV"
   },
   "source": [
    "There are many useful string methods, such as `find`, `join`, `upper`. Details can be found at https://docs.python.org/3/library/stdtypes.html#text-sequence-type-str"
   ]
  },
  {
   "cell_type": "code",
   "execution_count": null,
   "metadata": {
    "colab": {},
    "colab_type": "code",
    "id": "ln1wJR-vUOFW"
   },
   "outputs": [],
   "source": [
    "fruit.find('B')"
   ]
  },
  {
   "cell_type": "code",
   "execution_count": null,
   "metadata": {
    "colab": {},
    "colab_type": "code",
    "id": "OGBcxa0RUOFa"
   },
   "outputs": [],
   "source": [
    "' '.join('Apple')"
   ]
  },
  {
   "cell_type": "code",
   "execution_count": null,
   "metadata": {
    "colab": {},
    "colab_type": "code",
    "id": "ihMM87ZXUOFe"
   },
   "outputs": [],
   "source": [
    "fruit.upper()"
   ]
  },
  {
   "cell_type": "markdown",
   "metadata": {
    "colab_type": "text",
    "id": "QNeAZwZWUOFj"
   },
   "source": [
    "String is immutable"
   ]
  },
  {
   "cell_type": "code",
   "execution_count": null,
   "metadata": {
    "colab": {
     "base_uri": "https://localhost:8080/",
     "height": 201
    },
    "colab_type": "code",
    "executionInfo": {
     "elapsed": 1321,
     "status": "error",
     "timestamp": 1543028917098,
     "user": {
      "displayName": "Toan Truong",
      "photoUrl": "https://lh6.googleusercontent.com/-Nelis2Mmb-Y/AAAAAAAAAAI/AAAAAAAAQbA/-8oqWSRSORA/s64/photo.jpg",
      "userId": "14957896414946224457"
     },
     "user_tz": -420
    },
    "id": "CaR2dkDSUOFk",
    "outputId": "d6cd381a-fb0d-4615-dd2b-e7c6870a0f9f"
   },
   "outputs": [],
   "source": [
    "a = \"1234\"\n",
    "a[0] = 2"
   ]
  },
  {
   "cell_type": "markdown",
   "metadata": {
    "colab_type": "text",
    "id": "m3CSaMxZUOFr"
   },
   "source": [
    "#### Tuple"
   ]
  },
  {
   "cell_type": "markdown",
   "metadata": {
    "colab_type": "text",
    "id": "PIfhC-3nUOFs"
   },
   "source": [
    "A tuple is a sequences of values. The values can be of any types."
   ]
  },
  {
   "cell_type": "code",
   "execution_count": null,
   "metadata": {
    "colab": {},
    "colab_type": "code",
    "id": "1bA9poFJUOFv"
   },
   "outputs": [],
   "source": [
    "t = 'a', 'b', 'c', 5\n",
    "print (t)"
   ]
  },
  {
   "cell_type": "code",
   "execution_count": null,
   "metadata": {
    "colab": {},
    "colab_type": "code",
    "id": "eqBVCLc7UOF2"
   },
   "outputs": [],
   "source": [
    "## it is common to enclose tuple with parentheses\n",
    "t = ('a', 'b', 'c', 5)\n",
    "print (t)"
   ]
  },
  {
   "cell_type": "markdown",
   "metadata": {
    "colab_type": "text",
    "id": "2eStLr7bUOF8"
   },
   "source": [
    "How can we swap to number?"
   ]
  },
  {
   "cell_type": "code",
   "execution_count": 2,
   "metadata": {
    "colab": {},
    "colab_type": "code",
    "id": "Ma-PGKrVUOF8"
   },
   "outputs": [],
   "source": [
    "a = 5\n",
    "b = 4"
   ]
  },
  {
   "cell_type": "code",
   "execution_count": 3,
   "metadata": {
    "colab": {},
    "colab_type": "code",
    "id": "5xfzgr_iUOGA"
   },
   "outputs": [
    {
     "name": "stdout",
     "output_type": "stream",
     "text": [
      "4\n",
      "5\n"
     ]
    }
   ],
   "source": [
    "## the old way\n",
    "tmp = a\n",
    "a = b\n",
    "b = tmp\n",
    "print (a)\n",
    "print (b)"
   ]
  },
  {
   "cell_type": "code",
   "execution_count": 4,
   "metadata": {
    "colab": {},
    "colab_type": "code",
    "id": "bSQrljEIUOGF"
   },
   "outputs": [
    {
     "name": "stdout",
     "output_type": "stream",
     "text": [
      "4\n",
      "5\n"
     ]
    }
   ],
   "source": [
    "## Pythonic way\n",
    "a = 5\n",
    "b = 4\n",
    "a, b = b, a\n",
    "print (a)\n",
    "print (b)"
   ]
  },
  {
   "cell_type": "markdown",
   "metadata": {
    "colab_type": "text",
    "id": "VlnsXbrwUOGJ"
   },
   "source": [
    "Tuples are immutable"
   ]
  },
  {
   "cell_type": "code",
   "execution_count": 5,
   "metadata": {
    "colab": {
     "base_uri": "https://localhost:8080/",
     "height": 201
    },
    "colab_type": "code",
    "executionInfo": {
     "elapsed": 831,
     "status": "error",
     "timestamp": 1543029231754,
     "user": {
      "displayName": "Toan Truong",
      "photoUrl": "https://lh6.googleusercontent.com/-Nelis2Mmb-Y/AAAAAAAAAAI/AAAAAAAAQbA/-8oqWSRSORA/s64/photo.jpg",
      "userId": "14957896414946224457"
     },
     "user_tz": -420
    },
    "id": "q0VtQm5vUOGL",
    "outputId": "e0c73e08-af1a-4c88-d8a7-6cc26b147316"
   },
   "outputs": [
    {
     "ename": "TypeError",
     "evalue": "'tuple' object does not support item assignment",
     "output_type": "error",
     "traceback": [
      "\u001b[0;31m---------------------------------------------------------------------------\u001b[0m",
      "\u001b[0;31mTypeError\u001b[0m                                 Traceback (most recent call last)",
      "\u001b[0;32m<ipython-input-5-60717e2b7ae9>\u001b[0m in \u001b[0;36m<module>\u001b[0;34m\u001b[0m\n\u001b[1;32m      1\u001b[0m \u001b[0mt\u001b[0m \u001b[0;34m=\u001b[0m \u001b[0;34m(\u001b[0m\u001b[0;36m1\u001b[0m\u001b[0;34m,\u001b[0m \u001b[0;36m2\u001b[0m\u001b[0;34m,\u001b[0m \u001b[0;36m3\u001b[0m\u001b[0;34m)\u001b[0m\u001b[0;34m\u001b[0m\u001b[0m\n\u001b[0;32m----> 2\u001b[0;31m \u001b[0mt\u001b[0m\u001b[0;34m[\u001b[0m\u001b[0;36m1\u001b[0m\u001b[0;34m]\u001b[0m \u001b[0;34m=\u001b[0m \u001b[0;36m4\u001b[0m\u001b[0;34m\u001b[0m\u001b[0m\n\u001b[0m",
      "\u001b[0;31mTypeError\u001b[0m: 'tuple' object does not support item assignment"
     ]
    }
   ],
   "source": [
    "t = (1, 2, 3)\n",
    "t[1] = 4"
   ]
  },
  {
   "cell_type": "markdown",
   "metadata": {
    "colab_type": "text",
    "id": "CrC7KehDUOGP"
   },
   "source": [
    "#### List"
   ]
  },
  {
   "cell_type": "markdown",
   "metadata": {
    "colab_type": "text",
    "id": "FcK9vD9mUOGQ"
   },
   "source": [
    "A list is a sequence of values. Values in the list can be any type.  \n",
    "Lists are mutable."
   ]
  },
  {
   "cell_type": "code",
   "execution_count": null,
   "metadata": {
    "colab": {
     "base_uri": "https://localhost:8080/",
     "height": 34
    },
    "colab_type": "code",
    "executionInfo": {
     "elapsed": 792,
     "status": "ok",
     "timestamp": 1543029328665,
     "user": {
      "displayName": "Toan Truong",
      "photoUrl": "https://lh6.googleusercontent.com/-Nelis2Mmb-Y/AAAAAAAAAAI/AAAAAAAAQbA/-8oqWSRSORA/s64/photo.jpg",
      "userId": "14957896414946224457"
     },
     "user_tz": -420
    },
    "id": "21Q7_OIOUOGR",
    "outputId": "40deb6d0-0b02-4f8b-c8a0-77d2fa53f57e"
   },
   "outputs": [],
   "source": [
    "numbers = [1, 2, 3, 4]\n",
    "fruits = ['banana', 'apple', 'orange']\n",
    "print(numbers + fruits)"
   ]
  },
  {
   "cell_type": "code",
   "execution_count": null,
   "metadata": {
    "colab": {},
    "colab_type": "code",
    "id": "G_ezro5vUOGU"
   },
   "outputs": [],
   "source": [
    "numbers[0] = 2\n",
    "print (numbers)"
   ]
  },
  {
   "cell_type": "markdown",
   "metadata": {
    "colab_type": "text",
    "id": "Ol72dImgUOGZ"
   },
   "source": [
    "Slicing a list is similar as slicing a string."
   ]
  },
  {
   "cell_type": "code",
   "execution_count": null,
   "metadata": {
    "colab": {
     "base_uri": "https://localhost:8080/",
     "height": 51
    },
    "colab_type": "code",
    "executionInfo": {
     "elapsed": 788,
     "status": "ok",
     "timestamp": 1543029738165,
     "user": {
      "displayName": "Toan Truong",
      "photoUrl": "https://lh6.googleusercontent.com/-Nelis2Mmb-Y/AAAAAAAAAAI/AAAAAAAAQbA/-8oqWSRSORA/s64/photo.jpg",
      "userId": "14957896414946224457"
     },
     "user_tz": -420
    },
    "id": "fAqKNFkQUOGZ",
    "outputId": "93201143-b330-406f-a2cf-dbde01af545a"
   },
   "outputs": [],
   "source": [
    "print (numbers[1])\n",
    "print (numbers[::-1])"
   ]
  },
  {
   "cell_type": "code",
   "execution_count": null,
   "metadata": {
    "colab": {
     "base_uri": "https://localhost:8080/",
     "height": 34
    },
    "colab_type": "code",
    "executionInfo": {
     "elapsed": 1052,
     "status": "ok",
     "timestamp": 1543029784678,
     "user": {
      "displayName": "Toan Truong",
      "photoUrl": "https://lh6.googleusercontent.com/-Nelis2Mmb-Y/AAAAAAAAAAI/AAAAAAAAQbA/-8oqWSRSORA/s64/photo.jpg",
      "userId": "14957896414946224457"
     },
     "user_tz": -420
    },
    "id": "25qijBbpUOGd",
    "outputId": "051ef1f5-494d-4246-e12b-a3b723cdbfb4"
   },
   "outputs": [],
   "source": [
    "## Assign values to multiple elements of a list\n",
    "l = [1, 2, 3]\n",
    "l[0:2] = [4, 5]\n",
    "print (l)"
   ]
  },
  {
   "cell_type": "markdown",
   "metadata": {
    "colab_type": "text",
    "id": "JaSag2KpUOGg"
   },
   "source": [
    "Be careful when assigning a list to another."
   ]
  },
  {
   "cell_type": "code",
   "execution_count": null,
   "metadata": {
    "colab": {
     "base_uri": "https://localhost:8080/",
     "height": 52
    },
    "colab_type": "code",
    "executionInfo": {
     "elapsed": 1014,
     "status": "ok",
     "timestamp": 1543029856770,
     "user": {
      "displayName": "Toan Truong",
      "photoUrl": "https://lh6.googleusercontent.com/-Nelis2Mmb-Y/AAAAAAAAAAI/AAAAAAAAQbA/-8oqWSRSORA/s64/photo.jpg",
      "userId": "14957896414946224457"
     },
     "user_tz": -420
    },
    "id": "D1s23-vBUOGh",
    "outputId": "fa9bd92e-d6ee-49cb-cad7-3b3c8fa8d509"
   },
   "outputs": [],
   "source": [
    "numbers = [1, 2, 3, 4]\n",
    "numbers1 = numbers\n",
    "numbers1[1] = 10\n",
    "print (numbers)\n",
    "print (numbers1)"
   ]
  },
  {
   "cell_type": "code",
   "execution_count": null,
   "metadata": {
    "colab": {
     "base_uri": "https://localhost:8080/",
     "height": 52
    },
    "colab_type": "code",
    "executionInfo": {
     "elapsed": 1027,
     "status": "ok",
     "timestamp": 1543029933550,
     "user": {
      "displayName": "Toan Truong",
      "photoUrl": "https://lh6.googleusercontent.com/-Nelis2Mmb-Y/AAAAAAAAAAI/AAAAAAAAQbA/-8oqWSRSORA/s64/photo.jpg",
      "userId": "14957896414946224457"
     },
     "user_tz": -420
    },
    "id": "nHPRDpNGUOGn",
    "outputId": "9e8bf812-50d1-468a-e1fe-f79cc23bebe1"
   },
   "outputs": [],
   "source": [
    "numbers = [1, 2, 3, 4]\n",
    "numbers1 = numbers[:]\n",
    "numbers1[1] = 10\n",
    "print (numbers)\n",
    "print (numbers1)"
   ]
  },
  {
   "cell_type": "markdown",
   "metadata": {
    "colab_type": "text",
    "id": "pjuWuUdMUOGt"
   },
   "source": [
    "Like strings, lists have many useful methods."
   ]
  },
  {
   "cell_type": "code",
   "execution_count": null,
   "metadata": {
    "colab": {
     "base_uri": "https://localhost:8080/",
     "height": 34
    },
    "colab_type": "code",
    "executionInfo": {
     "elapsed": 1076,
     "status": "ok",
     "timestamp": 1543030033234,
     "user": {
      "displayName": "Toan Truong",
      "photoUrl": "https://lh6.googleusercontent.com/-Nelis2Mmb-Y/AAAAAAAAAAI/AAAAAAAAQbA/-8oqWSRSORA/s64/photo.jpg",
      "userId": "14957896414946224457"
     },
     "user_tz": -420
    },
    "id": "DKhQjaezUOGu",
    "outputId": "b8066dcc-6bca-48e1-ec13-24073d0a68c5"
   },
   "outputs": [],
   "source": [
    "## sort a list of numbers\n",
    "numbers = [3, 4, 2, 1]\n",
    "numbers.sort()\n",
    "print (numbers)"
   ]
  },
  {
   "cell_type": "code",
   "execution_count": null,
   "metadata": {
    "colab": {
     "base_uri": "https://localhost:8080/",
     "height": 34
    },
    "colab_type": "code",
    "executionInfo": {
     "elapsed": 871,
     "status": "ok",
     "timestamp": 1543030074204,
     "user": {
      "displayName": "Toan Truong",
      "photoUrl": "https://lh6.googleusercontent.com/-Nelis2Mmb-Y/AAAAAAAAAAI/AAAAAAAAQbA/-8oqWSRSORA/s64/photo.jpg",
      "userId": "14957896414946224457"
     },
     "user_tz": -420
    },
    "id": "owzL_I1vUOGy",
    "outputId": "390a62f7-3165-46a0-8cf8-79c5921226dc"
   },
   "outputs": [],
   "source": [
    "## reverse a list\n",
    "numbers = [1, 2, 3, 4]\n",
    "numbers.reverse()\n",
    "print (numbers)\n"
   ]
  },
  {
   "cell_type": "code",
   "execution_count": null,
   "metadata": {
    "colab": {
     "base_uri": "https://localhost:8080/",
     "height": 34
    },
    "colab_type": "code",
    "executionInfo": {
     "elapsed": 678,
     "status": "ok",
     "timestamp": 1543030138494,
     "user": {
      "displayName": "Toan Truong",
      "photoUrl": "https://lh6.googleusercontent.com/-Nelis2Mmb-Y/AAAAAAAAAAI/AAAAAAAAQbA/-8oqWSRSORA/s64/photo.jpg",
      "userId": "14957896414946224457"
     },
     "user_tz": -420
    },
    "id": "6Gq7eIZswsDc",
    "outputId": "8226ea3d-34a1-4947-98d4-6c975e9f77af"
   },
   "outputs": [],
   "source": [
    "numbers[::-1]"
   ]
  },
  {
   "cell_type": "code",
   "execution_count": null,
   "metadata": {
    "colab": {
     "base_uri": "https://localhost:8080/",
     "height": 34
    },
    "colab_type": "code",
    "executionInfo": {
     "elapsed": 1014,
     "status": "ok",
     "timestamp": 1543030168962,
     "user": {
      "displayName": "Toan Truong",
      "photoUrl": "https://lh6.googleusercontent.com/-Nelis2Mmb-Y/AAAAAAAAAAI/AAAAAAAAQbA/-8oqWSRSORA/s64/photo.jpg",
      "userId": "14957896414946224457"
     },
     "user_tz": -420
    },
    "id": "z9QHKHCGUOG0",
    "outputId": "f083984d-c3e2-47d9-98f6-7910dd6e4ec9"
   },
   "outputs": [],
   "source": [
    "## add an element to a list\n",
    "numbers = [1, 2, 3, 4]\n",
    "numbers.append(5)\n",
    "print (numbers)"
   ]
  },
  {
   "cell_type": "code",
   "execution_count": null,
   "metadata": {
    "colab": {
     "base_uri": "https://localhost:8080/",
     "height": 34
    },
    "colab_type": "code",
    "executionInfo": {
     "elapsed": 1030,
     "status": "ok",
     "timestamp": 1543030171460,
     "user": {
      "displayName": "Toan Truong",
      "photoUrl": "https://lh6.googleusercontent.com/-Nelis2Mmb-Y/AAAAAAAAAAI/AAAAAAAAQbA/-8oqWSRSORA/s64/photo.jpg",
      "userId": "14957896414946224457"
     },
     "user_tz": -420
    },
    "id": "HbF_Vc2NUOG4",
    "outputId": "58183dfc-24a4-40e8-9aa3-94b2c01e8541"
   },
   "outputs": [],
   "source": [
    "## remove an element to a list\n",
    "numbers = [1, 2, 3, 4]\n",
    "numbers.pop(1)\n",
    "print (numbers)"
   ]
  },
  {
   "cell_type": "code",
   "execution_count": null,
   "metadata": {
    "colab": {
     "base_uri": "https://localhost:8080/",
     "height": 34
    },
    "colab_type": "code",
    "executionInfo": {
     "elapsed": 1005,
     "status": "ok",
     "timestamp": 1543030174256,
     "user": {
      "displayName": "Toan Truong",
      "photoUrl": "https://lh6.googleusercontent.com/-Nelis2Mmb-Y/AAAAAAAAAAI/AAAAAAAAQbA/-8oqWSRSORA/s64/photo.jpg",
      "userId": "14957896414946224457"
     },
     "user_tz": -420
    },
    "id": "hI6vL4y0UOG7",
    "outputId": "f1cd367e-0d39-4ac5-870a-8c697988dec9"
   },
   "outputs": [],
   "source": [
    "## concatenate two lists\n",
    "list1 = [1, 2, 3]\n",
    "list2 = [4, 5, 6]\n",
    "list1.extend(list2)\n",
    "print (list1)"
   ]
  },
  {
   "cell_type": "code",
   "execution_count": null,
   "metadata": {
    "colab": {
     "base_uri": "https://localhost:8080/",
     "height": 34
    },
    "colab_type": "code",
    "executionInfo": {
     "elapsed": 982,
     "status": "ok",
     "timestamp": 1543030179775,
     "user": {
      "displayName": "Toan Truong",
      "photoUrl": "https://lh6.googleusercontent.com/-Nelis2Mmb-Y/AAAAAAAAAAI/AAAAAAAAQbA/-8oqWSRSORA/s64/photo.jpg",
      "userId": "14957896414946224457"
     },
     "user_tz": -420
    },
    "id": "hz7OGN2HUOG-",
    "outputId": "7637990d-d223-43f4-c9f9-cc3ae5ff5245"
   },
   "outputs": [],
   "source": [
    "## alternately, we can use + operator to concatenate two lists\n",
    "list1 = [1, 2, 3]\n",
    "list2 = [4, 5, 6]\n",
    "list3 = list1 + list2\n",
    "print (list3)"
   ]
  },
  {
   "cell_type": "markdown",
   "metadata": {
    "colab_type": "text",
    "id": "VBRXwPHxUOHD"
   },
   "source": [
    "What is the difference between two ways of cancatenate lists?"
   ]
  },
  {
   "cell_type": "markdown",
   "metadata": {
    "colab_type": "text",
    "id": "XIM7OTXyUOHM"
   },
   "source": [
    "#### Set"
   ]
  },
  {
   "cell_type": "markdown",
   "metadata": {
    "colab_type": "text",
    "id": "_JRFVsbyUOHN"
   },
   "source": [
    "A set is an unordered \"bag\" of unique values."
   ]
  },
  {
   "cell_type": "code",
   "execution_count": null,
   "metadata": {
    "colab": {
     "base_uri": "https://localhost:8080/",
     "height": 34
    },
    "colab_type": "code",
    "executionInfo": {
     "elapsed": 933,
     "status": "ok",
     "timestamp": 1543030245562,
     "user": {
      "displayName": "Toan Truong",
      "photoUrl": "https://lh6.googleusercontent.com/-Nelis2Mmb-Y/AAAAAAAAAAI/AAAAAAAAQbA/-8oqWSRSORA/s64/photo.jpg",
      "userId": "14957896414946224457"
     },
     "user_tz": -420
    },
    "id": "nSZTu1IKUOHN",
    "outputId": "86d4a8be-5a42-478b-fbcd-4ef58e29834a"
   },
   "outputs": [],
   "source": [
    "a_set = {1, 2, 3, 3}\n",
    "print (a_set)"
   ]
  },
  {
   "cell_type": "code",
   "execution_count": null,
   "metadata": {
    "colab": {},
    "colab_type": "code",
    "id": "9f64zP7DUOHR"
   },
   "outputs": [],
   "source": [
    "type(a_set)"
   ]
  },
  {
   "cell_type": "code",
   "execution_count": null,
   "metadata": {
    "colab": {
     "base_uri": "https://localhost:8080/",
     "height": 34
    },
    "colab_type": "code",
    "executionInfo": {
     "elapsed": 986,
     "status": "ok",
     "timestamp": 1543030276807,
     "user": {
      "displayName": "Toan Truong",
      "photoUrl": "https://lh6.googleusercontent.com/-Nelis2Mmb-Y/AAAAAAAAAAI/AAAAAAAAQbA/-8oqWSRSORA/s64/photo.jpg",
      "userId": "14957896414946224457"
     },
     "user_tz": -420
    },
    "id": "QYdKy2ZfUOHY",
    "outputId": "dffcb2ca-17db-42d5-8d9b-0c092029804f"
   },
   "outputs": [],
   "source": [
    "## use set() to create an empty set\n",
    "a_set = set()\n",
    "print (len(a_set))"
   ]
  },
  {
   "cell_type": "code",
   "execution_count": null,
   "metadata": {
    "colab": {},
    "colab_type": "code",
    "id": "zvwS5j4dUOHd"
   },
   "outputs": [],
   "source": [
    "## create a set from a list\n",
    "a_list = [1, 2, 2, 4]\n",
    "a_set = set(a_list)\n",
    "print (a_set)"
   ]
  },
  {
   "cell_type": "code",
   "execution_count": null,
   "metadata": {
    "colab": {
     "base_uri": "https://localhost:8080/",
     "height": 34
    },
    "colab_type": "code",
    "executionInfo": {
     "elapsed": 811,
     "status": "ok",
     "timestamp": 1543030334530,
     "user": {
      "displayName": "Toan Truong",
      "photoUrl": "https://lh6.googleusercontent.com/-Nelis2Mmb-Y/AAAAAAAAAAI/AAAAAAAAQbA/-8oqWSRSORA/s64/photo.jpg",
      "userId": "14957896414946224457"
     },
     "user_tz": -420
    },
    "id": "SH9FcgoQUOHg",
    "outputId": "bf2a7b4e-c66d-43f4-d298-d2ced0602931"
   },
   "outputs": [],
   "source": [
    "## add values to set\n",
    "a_set = {1, 2}\n",
    "a_set.add(3)\n",
    "print (a_set)"
   ]
  },
  {
   "cell_type": "markdown",
   "metadata": {
    "colab_type": "text",
    "id": "8hx8VfbzUOHl"
   },
   "source": [
    "#### Dictionaties"
   ]
  },
  {
   "cell_type": "markdown",
   "metadata": {
    "colab_type": "text",
    "id": "h8J1dTSVUOHn"
   },
   "source": [
    "A dictionary is an unordered set of key-value pairs. "
   ]
  },
  {
   "cell_type": "code",
   "execution_count": null,
   "metadata": {
    "colab": {},
    "colab_type": "code",
    "id": "MkLG0ijrUOHq"
   },
   "outputs": [],
   "source": [
    "## creating a dictionary has similar syntax as creating a set\n",
    "infos = {'harry': 12, 'john': 13}\n",
    "print (infos)"
   ]
  },
  {
   "cell_type": "code",
   "execution_count": null,
   "metadata": {
    "colab": {},
    "colab_type": "code",
    "id": "DVqM5rg7UOHw"
   },
   "outputs": [],
   "source": [
    "infos['harry']"
   ]
  },
  {
   "cell_type": "code",
   "execution_count": null,
   "metadata": {
    "colab": {},
    "colab_type": "code",
    "id": "0MoCvjr0UOH1"
   },
   "outputs": [],
   "source": [
    "## modifies dictionaries\n",
    "infos['harry'] = 14\n",
    "print (infos)"
   ]
  },
  {
   "cell_type": "code",
   "execution_count": null,
   "metadata": {
    "colab": {},
    "colab_type": "code",
    "id": "Y6h0yoR4UOH3"
   },
   "outputs": [],
   "source": [
    "## get all keys of a dictionary\n",
    "print (infos.keys())\n",
    "## get all values of a dictionary\n",
    "print (infos.values())\n",
    "## get all items of a dictionary\n",
    "print (infos.items())"
   ]
  },
  {
   "cell_type": "markdown",
   "metadata": {
    "colab_type": "text",
    "id": "lHc_NuljUOH7"
   },
   "source": [
    "## 2. Control flow"
   ]
  },
  {
   "cell_type": "markdown",
   "metadata": {
    "colab_type": "text",
    "id": "uSogYppmUOH9"
   },
   "source": [
    "### 2.1. `if` statement"
   ]
  },
  {
   "cell_type": "code",
   "execution_count": null,
   "metadata": {
    "colab": {
     "base_uri": "https://localhost:8080/",
     "height": 51
    },
    "colab_type": "code",
    "executionInfo": {
     "elapsed": 9618,
     "status": "ok",
     "timestamp": 1543030624444,
     "user": {
      "displayName": "Toan Truong",
      "photoUrl": "https://lh6.googleusercontent.com/-Nelis2Mmb-Y/AAAAAAAAAAI/AAAAAAAAQbA/-8oqWSRSORA/s64/photo.jpg",
      "userId": "14957896414946224457"
     },
     "user_tz": -420
    },
    "id": "aaUlcLMiUOH9",
    "outputId": "9e92d26e-0eb8-4c11-885a-6b1379c1f8f9"
   },
   "outputs": [],
   "source": [
    "age = int(input(\"Enter an a number:\"))\n",
    "if age < 0:\n",
    "    print (\"Negative number\")\n",
    "elif age == 0:\n",
    "    print (\"Zero\")\n",
    "else:\n",
    "    print (\"Positive number\")"
   ]
  },
  {
   "cell_type": "code",
   "execution_count": null,
   "metadata": {
    "colab": {
     "base_uri": "https://localhost:8080/",
     "height": 34
    },
    "colab_type": "code",
    "executionInfo": {
     "elapsed": 1027,
     "status": "ok",
     "timestamp": 1543030953440,
     "user": {
      "displayName": "Toan Truong",
      "photoUrl": "https://lh6.googleusercontent.com/-Nelis2Mmb-Y/AAAAAAAAAAI/AAAAAAAAQbA/-8oqWSRSORA/s64/photo.jpg",
      "userId": "14957896414946224457"
     },
     "user_tz": -420
    },
    "id": "waRh2nCeUOIA",
    "outputId": "1e90f736-0994-4d20-d2ee-9f3744511ffc"
   },
   "outputs": [],
   "source": [
    "## some especial cases\n",
    "if [12]:\n",
    "    print (\"true\")\n",
    "else:\n",
    "    print (\"false\")"
   ]
  },
  {
   "cell_type": "markdown",
   "metadata": {
    "colab_type": "text",
    "id": "nkKh_M8zUOIH"
   },
   "source": [
    "In Python, conditional expressions will accept any values of any type. Some especial values are evaluated as `False` and everything else is evaluated as `True`.  \n",
    "Values that are evaluated as `False` in Python:  \n",
    "    * 0\n",
    "    * None\n",
    "    * empty string, empty list, empty set.  \n",
    "\n",
    "We can use `and`, `or`, `not` to combine conditional expressions\n",
    "    "
   ]
  },
  {
   "cell_type": "code",
   "execution_count": null,
   "metadata": {
    "colab": {
     "base_uri": "https://localhost:8080/",
     "height": 34
    },
    "colab_type": "code",
    "executionInfo": {
     "elapsed": 994,
     "status": "ok",
     "timestamp": 1543030983026,
     "user": {
      "displayName": "Toan Truong",
      "photoUrl": "https://lh6.googleusercontent.com/-Nelis2Mmb-Y/AAAAAAAAAAI/AAAAAAAAQbA/-8oqWSRSORA/s64/photo.jpg",
      "userId": "14957896414946224457"
     },
     "user_tz": -420
    },
    "id": "dLnYC6UIUOII",
    "outputId": "82ea3176-713d-4d7f-f56c-ae94c4ed91f7"
   },
   "outputs": [],
   "source": [
    "number = 15\n",
    "## check to see if number is multiple of 3 and 5\n",
    "if number % 3 == 0 and number % 5 == 0:\n",
    "    print ('True')\n",
    "else:\n",
    "    print ('False')"
   ]
  },
  {
   "cell_type": "markdown",
   "metadata": {
    "colab_type": "text",
    "id": "4XH7sq84UOIK"
   },
   "source": [
    "### 2.2 `for` statement"
   ]
  },
  {
   "cell_type": "markdown",
   "metadata": {
    "colab_type": "text",
    "id": "74CpbDDbUOIN"
   },
   "source": [
    "Python’s for statement iterates over the items of any sequence (a list or a string), in the order that they appear in the sequence."
   ]
  },
  {
   "cell_type": "code",
   "execution_count": null,
   "metadata": {
    "colab": {},
    "colab_type": "code",
    "id": "0zuCS07UUOIN"
   },
   "outputs": [],
   "source": [
    "## calculate sum of numbers in a list\n",
    "numbers = [1, 3, 2, 4]\n",
    "s = 0\n",
    "for num in numbers:\n",
    "    s += num\n",
    "print (s)"
   ]
  },
  {
   "cell_type": "markdown",
   "metadata": {
    "colab_type": "text",
    "id": "fjqqRPg_UOIQ"
   },
   "source": [
    "How to iterate a sequence of numbers?"
   ]
  },
  {
   "cell_type": "code",
   "execution_count": null,
   "metadata": {
    "colab": {
     "base_uri": "https://localhost:8080/",
     "height": 86
    },
    "colab_type": "code",
    "executionInfo": {
     "elapsed": 894,
     "status": "ok",
     "timestamp": 1543031308567,
     "user": {
      "displayName": "Toan Truong",
      "photoUrl": "https://lh6.googleusercontent.com/-Nelis2Mmb-Y/AAAAAAAAAAI/AAAAAAAAQbA/-8oqWSRSORA/s64/photo.jpg",
      "userId": "14957896414946224457"
     },
     "user_tz": -420
    },
    "id": "URkrvmjgUOIR",
    "outputId": "ca3f0d2c-e33a-455b-8893-8e3a4f33c0df"
   },
   "outputs": [],
   "source": [
    "for i in range(4):\n",
    "    print (i)"
   ]
  },
  {
   "cell_type": "code",
   "execution_count": null,
   "metadata": {
    "colab": {
     "base_uri": "https://localhost:8080/",
     "height": 103
    },
    "colab_type": "code",
    "executionInfo": {
     "elapsed": 942,
     "status": "ok",
     "timestamp": 1543031343329,
     "user": {
      "displayName": "Toan Truong",
      "photoUrl": "https://lh6.googleusercontent.com/-Nelis2Mmb-Y/AAAAAAAAAAI/AAAAAAAAQbA/-8oqWSRSORA/s64/photo.jpg",
      "userId": "14957896414946224457"
     },
     "user_tz": -420
    },
    "id": "9DxZbc1iUOIU",
    "outputId": "e367baea-7895-495c-9f83-7c7575a4af1e"
   },
   "outputs": [],
   "source": [
    "for i in range(0, 10, 2):\n",
    "    print (i)"
   ]
  },
  {
   "cell_type": "markdown",
   "metadata": {
    "colab_type": "text",
    "id": "ELDywK_XUOIY"
   },
   "source": [
    "***List Comprehension***"
   ]
  },
  {
   "cell_type": "code",
   "execution_count": null,
   "metadata": {
    "colab": {},
    "colab_type": "code",
    "id": "xh4g8OLWUOIb"
   },
   "outputs": [],
   "source": [
    "### return all even function in range(10)\n",
    "evens = [i for i in range(10) if i % 2 == 0]\n",
    "print (evens)"
   ]
  },
  {
   "cell_type": "markdown",
   "metadata": {
    "colab_type": "text",
    "id": "RjpfD4CrUOIi"
   },
   "source": [
    "### 2.3 `while` statement"
   ]
  },
  {
   "cell_type": "markdown",
   "metadata": {
    "colab_type": "text",
    "id": "y8w2iiymUOIi"
   },
   "source": [
    "The `while` statement is used for repeated execution as long as an expression is true."
   ]
  },
  {
   "cell_type": "code",
   "execution_count": null,
   "metadata": {
    "colab": {
     "base_uri": "https://localhost:8080/",
     "height": 34
    },
    "colab_type": "code",
    "executionInfo": {
     "elapsed": 1342,
     "status": "ok",
     "timestamp": 1543032148151,
     "user": {
      "displayName": "Toan Truong",
      "photoUrl": "https://lh6.googleusercontent.com/-Nelis2Mmb-Y/AAAAAAAAAAI/AAAAAAAAQbA/-8oqWSRSORA/s64/photo.jpg",
      "userId": "14957896414946224457"
     },
     "user_tz": -420
    },
    "id": "WkN4Bvy7UOIj",
    "outputId": "482f04e9-9a22-4ad9-a509-65bca37045b5"
   },
   "outputs": [],
   "source": [
    "### Find the greatest common dividor of two numbers\n",
    "a = 13\n",
    "b = 14\n",
    "while a != 0 and b != 0:\n",
    "    a, b = b, b % a\n",
    "gcd = b if b != 0 else a\n",
    "print (gcd)"
   ]
  },
  {
   "cell_type": "markdown",
   "metadata": {
    "colab_type": "text",
    "id": "qXIlTjhXUOIm"
   },
   "source": [
    "## 3. Function"
   ]
  },
  {
   "cell_type": "code",
   "execution_count": null,
   "metadata": {
    "colab": {},
    "colab_type": "code",
    "id": "Dp4vSKGTUOIo"
   },
   "outputs": [],
   "source": [
    "def numEven(numbers):\n",
    "    '''Return the number of even number in a list.'''\n",
    "    num_even = 0\n",
    "    for i in numbers:\n",
    "        if i % 2 == 0:\n",
    "            num_even += 1\n",
    "    '''YOUR CODE HERE'''\n",
    "    pass\n",
    "    return num_even\n",
    "\n",
    "assert numEven([1, 2, 3, 4, 6]) == 3"
   ]
  },
  {
   "cell_type": "code",
   "execution_count": 1,
   "metadata": {
    "colab": {},
    "colab_type": "code",
    "id": "dwSOICl8UOIq"
   },
   "outputs": [],
   "source": [
    "import math\n",
    "def isPrime(n):\n",
    "    '''Return True if n is a prime number, False otherwise'''\n",
    "    assert n > 0\n",
    "    if n == 2 or n == 3:\n",
    "        return True\n",
    "    if n < 2 or n % 2 == 0:\n",
    "        return False\n",
    "    for i in range(3, int(math.sqrt(n)) + 1, 2):\n",
    "        if n % i == 0:\n",
    "            return False\n",
    "    '''YOUR CODE HERE'''\n",
    "    return True\n",
    "\n",
    "assert not isPrime(1)\n",
    "assert isPrime(2)\n",
    "assert isPrime(5)\n",
    "assert not isPrime(10)"
   ]
  },
  {
   "cell_type": "code",
   "execution_count": null,
   "metadata": {
    "colab": {},
    "colab_type": "code",
    "id": "-EsWYs-eUOIt"
   },
   "outputs": [],
   "source": [
    "def fib(n):\n",
    "    '''Calculate the n-th fibonacci number'''\n",
    "    assert n >= 0\n",
    "    a, b = 0, 1\n",
    "    for i in range(1, n + 1):\n",
    "        a, b = b, a + b\n",
    "    '''YOUR CODE HERE'''\n",
    "    return a\n",
    "\n",
    "## SOME TEST CASES\n",
    "assert fib(0) == 0\n",
    "assert fib(1) == 1\n",
    "assert fib(2) == 1\n",
    "assert fib(5) == 5\n",
    "assert fib(12) == 144"
   ]
  },
  {
   "cell_type": "code",
   "execution_count": null,
   "metadata": {
    "colab": {},
    "colab_type": "code",
    "id": "z40v1M7PUOIw"
   },
   "outputs": [],
   "source": [
    "def bubbleSort(numbers):\n",
    "    '''Sort a list of numbers using Bubble Sort Algorithm'''\n",
    "    assert len(numbers) > 0\n",
    "    length = len(numbers)\n",
    "    for i in range(0, length):\n",
    "        for j in range(i, length):\n",
    "            if numbers[i] > numbers[j]:\n",
    "                numbers[i], numbers[j] = numbers[j], numbers[i]\n",
    "    '''YOUR CODE HERE'''\n",
    "    pass\n",
    "\n",
    "numbers = [3, 2, 4, 1]\n",
    "bubbleSort(numbers)\n",
    "print (numbers)"
   ]
  },
  {
   "cell_type": "code",
   "execution_count": null,
   "metadata": {
    "colab": {},
    "colab_type": "code",
    "id": "CVqzu0OYUOIz"
   },
   "outputs": [],
   "source": [
    "def binarySearch(sequence, number):\n",
    "    '''\n",
    "        Find a number in an increasing sequence of numbers.\n",
    "        If number is in sequence, return True. Otherwise return False.\n",
    "    '''\n",
    "    assert len(sequence) > 0\n",
    "    found = False\n",
    "    lo, hi = 0, len(sequence) - 1\n",
    "    mid = int((lo + hi)/2)+1\n",
    "    if sequence[mid] == number:\n",
    "        found = True\n",
    "    if number < sequence[mid]:\n",
    "        print(mid)\n",
    "        print(hi)\n",
    "        binarySearch(sequence[mid:hi], number)\n",
    "    if number > sequence[mid]:\n",
    "        binarySearch(sequence[0:mid+1], number)\n",
    "    return found\n",
    "\n",
    "numbers = [1, 2, 3, 5, 10, 50]\n",
    "assert binarySearch(numbers, 2)\n",
    "assert binarySearch(numbers, 1)\n",
    "assert not binarySearch(numbers, 0)"
   ]
  },
  {
   "cell_type": "markdown",
   "metadata": {
    "colab_type": "text",
    "id": "BgCA1IcRUOI1"
   },
   "source": [
    "## 4. File operation"
   ]
  },
  {
   "cell_type": "markdown",
   "metadata": {
    "colab_type": "text",
    "id": "HomsHME1UOI2"
   },
   "source": [
    "### 4.1. Write to files"
   ]
  },
  {
   "cell_type": "code",
   "execution_count": 12,
   "metadata": {
    "colab": {},
    "colab_type": "code",
    "id": "k4n5F5MRUOI3"
   },
   "outputs": [],
   "source": [
    "## writes to file primes.txt all prime number from 1 to 1000\n",
    "prime_number_file = 'primes.txt'\n",
    "f = open(prime_number_file, 'w')\n",
    "for i in range(1, 100):\n",
    "    if isPrime(i):\n",
    "        f.write(str(i) + '\\n') ## use str(i) to convert integer i to string\n",
    "## always remember to close the file\n",
    "f.close()"
   ]
  },
  {
   "cell_type": "code",
   "execution_count": 2,
   "metadata": {
    "colab": {},
    "colab_type": "code",
    "id": "AJRzjcutUOI6"
   },
   "outputs": [],
   "source": [
    "### alternative syntax\n",
    "prime_number_file = 'primes.txt'\n",
    "with open(prime_number_file, 'w') as f:\n",
    "    for i in range(1, 1001):\n",
    "        if isPrime(i):\n",
    "            f.write(str(i) + '\\n')"
   ]
  },
  {
   "cell_type": "markdown",
   "metadata": {
    "colab_type": "text",
    "id": "cbTEhuv7UOI7"
   },
   "source": [
    "### 4.2. Read from files"
   ]
  },
  {
   "cell_type": "code",
   "execution_count": 3,
   "metadata": {
    "colab": {},
    "colab_type": "code",
    "id": "h6_Cz42VUOI8"
   },
   "outputs": [
    {
     "name": "stdout",
     "output_type": "stream",
     "text": [
      "76127\n"
     ]
    }
   ],
   "source": [
    "### read all number from file primes.txt and caculate sum\n",
    "s = 0\n",
    "with open(prime_number_file, 'r') as f:\n",
    "    for line in f: ## for each line in the text\n",
    "        s += int(line)\n",
    "print (s)"
   ]
  },
  {
   "cell_type": "code",
   "execution_count": 6,
   "metadata": {
    "colab": {},
    "colab_type": "code",
    "id": "MKY1i93SUOJB"
   },
   "outputs": [
    {
     "name": "stdout",
     "output_type": "stream",
     "text": [
      "counterdemonstration\n",
      "\n",
      "counterdemonstrations\n",
      "\n",
      "counterdemonstrators\n",
      "\n",
      "hyperaggressivenesses\n",
      "\n",
      "hypersensitivenesses\n",
      "\n",
      "microminiaturization\n",
      "\n",
      "microminiaturizations\n",
      "\n",
      "representativenesses\n",
      "\n"
     ]
    }
   ],
   "source": [
    "### read from file words.txt and print all words that have length >= 20 characters\n",
    "word_file = 'words.txt'\n",
    "with open(word_file, 'r') as f:\n",
    "    for line in f:\n",
    "        if len(line.strip()) > 19:\n",
    "            print(line)\n",
    "pass"
   ]
  },
  {
   "cell_type": "code",
   "execution_count": 23,
   "metadata": {
    "colab": {},
    "colab_type": "code",
    "id": "8Aqh5a01UOJG"
   },
   "outputs": [],
   "source": [
    "def findWord(word, filename):\n",
    "    ''' Read a file and check if word appears in the file.'''\n",
    "    ''' Hint 1: use file's read() method to get the text of file'''\n",
    "    ''' Hint 2: use string's split() method to split text into words '''\n",
    "    word = word.lower()\n",
    "    with open(filename, 'r') as f:\n",
    "        txt = f.read()\n",
    "        txtArray = txt.split()\n",
    "        for i in range(len(txtArray)):\n",
    "            if (txtArray[i] == word):\n",
    "                return True\n",
    "        return False\n",
    "    pass\n",
    "\n",
    "assert findWord('Informing', word_file)\n",
    "assert not findWord('hel', word_file)"
   ]
  },
  {
   "cell_type": "code",
   "execution_count": 43,
   "metadata": {
    "colab": {},
    "colab_type": "code",
    "id": "WXL9gsVgUOJL"
   },
   "outputs": [
    {
     "name": "stdout",
     "output_type": "stream",
     "text": [
      "{'clauses': 1, 'consists': 1, 'a': 3, 'statement': 1, 'one': 1, 'or': 1, 'of': 1, 'more': 1, 'compound': 1}\n",
      "None\n"
     ]
    }
   ],
   "source": [
    "import string\n",
    "\n",
    "def cleanWord(word):\n",
    "    '''Get rid of punctuation in word.'''\n",
    "    return ''.join([c for c in word if c not in string.punctuation])\n",
    "    \n",
    "def wordFrequencies(filename):\n",
    "    '''Read a file and count the number of appearances of each word in the file.'''\n",
    "    '''YOUR CODE HERE'''\n",
    "    with open(filename, 'r') as f:\n",
    "        txt = f.read()\n",
    "        txtArray = txt.split()\n",
    "        d = {}\n",
    "        for w in txtArray:\n",
    "            w = cleanWord(w.lower())\n",
    "            d[w] = d.get(w, 0) + 1\n",
    "        print(d)\n",
    "    pass\n",
    "\n",
    "text_file = 'text.txt'\n",
    "print (wordFrequencies(text_file))"
   ]
  },
  {
   "cell_type": "markdown",
   "metadata": {
    "colab_type": "text",
    "id": "kJrOi0QcUOJR"
   },
   "source": [
    "## 5. Additional materials"
   ]
  },
  {
   "cell_type": "markdown",
   "metadata": {
    "colab_type": "text",
    "id": "2yXs3jJiUOJS"
   },
   "source": [
    "https://en.wikibooks.org/wiki/Python_Programming  \n",
    "http://greenteapress.com/thinkpython/html/index.html  \n",
    "https://docs.python.org/3/tutorial/index.html  \n"
   ]
  }
 ],
 "metadata": {
  "colab": {
   "name": "Lesson1.ipynb",
   "provenance": [],
   "version": "0.3.2"
  },
  "kernelspec": {
   "display_name": "Python 3",
   "language": "python",
   "name": "python3"
  },
  "language_info": {
   "codemirror_mode": {
    "name": "ipython",
    "version": 3
   },
   "file_extension": ".py",
   "mimetype": "text/x-python",
   "name": "python",
   "nbconvert_exporter": "python",
   "pygments_lexer": "ipython3",
   "version": "3.5.2"
  }
 },
 "nbformat": 4,
 "nbformat_minor": 1
}
