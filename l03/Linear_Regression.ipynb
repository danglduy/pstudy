{
 "cells": [
  {
   "cell_type": "markdown",
   "metadata": {},
   "source": [
    "# Linear Regression\n",
    "\n",
    "Suppose that we have the following linear hypothesis funtion:\n",
    "$$\n",
    "h_\\theta(x)=\\theta_{0}+\\theta_{1}x_{1}+...+\\theta_{n}x_{n}$$\n",
    "\n",
    "Suppose $x_0=1$, we can rewrite the function as:\n",
    "\n",
    "$$h_\\theta(x)=\\sum_{i=0}^{n}\\theta_ix_i=\\theta^Tx$$\n",
    "\n",
    "with $x=\\begin{bmatrix}x_0\\\\x_1\\\\...\\\\x_n\\end{bmatrix}$ and $\\theta=\\begin{bmatrix}\\theta_0\\\\ \\theta_1 \\\\...\\\\\\theta_n\\end{bmatrix}$\n",
    "\n",
    "## Loss function\n",
    "Suppose that we have m sample $x_j$ with $j={1,2...m}$.\n",
    "\n",
    "We define the following loss function as a function of $\\theta$:\n",
    "\n",
    "$$L(\\theta)=\\sum_{j=1}^m(h_\\theta(x_j)-y_j)^2$$\n",
    "We will find $\\theta^*$ such that $L(\\theta^*)$ is smallest:\n",
    "$$\\theta^*=arg{min}_\\theta L(\\theta)$$"
   ]
  },
  {
   "cell_type": "code",
   "execution_count": 1,
   "metadata": {},
   "outputs": [],
   "source": [
    "%matplotlib inline"
   ]
  },
  {
   "cell_type": "code",
   "execution_count": 2,
   "metadata": {},
   "outputs": [],
   "source": [
    "import numpy as np\n",
    "import matplotlib.pyplot as plt"
   ]
  },
  {
   "cell_type": "code",
   "execution_count": 3,
   "metadata": {},
   "outputs": [],
   "source": [
    "# Load data\n",
    "data = np.loadtxt(\"Linear_Regression.txt\")"
   ]
  },
  {
   "cell_type": "markdown",
   "metadata": {},
   "source": [
    "### Split data into training data and testing data"
   ]
  },
  {
   "cell_type": "code",
   "execution_count": 4,
   "metadata": {},
   "outputs": [
    {
     "data": {
      "image/png": "[encoded data removed]",
      "text/plain": [
       "<Figure size 432x288 with 1 Axes>"
      ]
     },
     "metadata": {
      "needs_background": "light"
     },
     "output_type": "display_data"
    }
   ],
   "source": [
    "shuffle = np.random.permutation(data.shape[0])\n",
    "\n",
    "portion = int(0.2 * len(data))\n",
    "\n",
    "#split into train and validation data\n",
    "test_x = data[shuffle[:portion], 0].reshape(-1, 1)\n",
    "test_y = data[shuffle[:portion], 1].reshape(-1, 1)\n",
    "\n",
    "train_x = data[shuffle[portion:], 0].reshape(-1, 1)\n",
    "train_y = data[shuffle[portion:], 1].reshape(-1, 1)\n",
    "\n",
    "# Plot training data\n",
    "plt.scatter(train_x, train_y)\n",
    "plt.show()"
   ]
  },
  {
   "cell_type": "code",
   "execution_count": 18,
   "metadata": {
    "scrolled": true
   },
   "outputs": [],
   "source": [
    "#pad x with 1 at the beginning\n",
    "def pad(x):\n",
    "    return np.hstack((np.ones((x.shape[0], 1), dtype = x.dtype), x))\n",
    "\n",
    "def predict(theta, x):\n",
    "    return x.dot(theta)\n",
    "    # YOUR CODE HERE\n",
    "\n",
    "def compute_gradient(theta, x, y):\n",
    "    \n",
    "    # Return gradient and loss\n",
    "    # YOUR CODE HERE\n",
    "    pass"
   ]
  },
  {
   "cell_type": "code",
   "execution_count": 19,
   "metadata": {},
   "outputs": [
    {
     "name": "stdout",
     "output_type": "stream",
     "text": [
      "[[1 1]\n",
      " [1 2]\n",
      " [1 3]]\n",
      "[[1]\n",
      " [2]]\n",
      "[[3]\n",
      " [5]\n",
      " [7]]\n"
     ]
    }
   ],
   "source": [
    "x = np.array([[1, 1], [1, 2], [1, 3]])\n",
    "print(x)\n",
    "theta = np.array([1, 2]).reshape(2, 1)\n",
    "print(theta)\n",
    "print(predict(theta, x))"
   ]
  },
  {
   "cell_type": "markdown",
   "metadata": {},
   "source": [
    "### Training"
   ]
  },
  {
   "cell_type": "code",
   "execution_count": null,
   "metadata": {},
   "outputs": [],
   "source": [
    "theta = np.random.randn(2).reshape(2,1)\n",
    "\n",
    "alpha = 0.0005\n",
    "tolerance = 1e-5\n",
    "\n",
    "# Perform Gradient Descent\n",
    "iterations = 1\n",
    "while True:\n",
    "    # Compute gradient, error and update theta\n",
    "    # YOUR CODE HERE\n",
    "    gradient, error = \n",
    "    new_theta = \n",
    "    # ----------------------------------------\n",
    "    \n",
    "    # Stopping Condition\n",
    "    if np.sum(abs(new_theta - theta)) < tolerance:\n",
    "        print(\"Converged.\")\n",
    "        break\n",
    "    \n",
    "    # Print error every 100 iterations\n",
    "    if iterations % 100 == 0:\n",
    "        print(\"Iteration: %d - Error: %.4f\" %(iterations, error))\n",
    "    \n",
    "    iterations += 1\n",
    "    theta = new_theta\n",
    "\n",
    "line_x = np.array([0, 100]).reshape([2,1])\n",
    "line_y = predict(theta, line_x)\n",
    "\n",
    "\n",
    "plt.plot(train_x, train_y, 'o')\n",
    "plt.plot(line_x, line_y, marker = 'o')\n",
    "\n",
    "plt.show()"
   ]
  },
  {
   "cell_type": "markdown",
   "metadata": {
    "collapsed": true
   },
   "source": [
    "### Validation"
   ]
  },
  {
   "cell_type": "code",
   "execution_count": null,
   "metadata": {},
   "outputs": [],
   "source": [
    "# Predict\n",
    "# YOUR CODE HERE\n",
    "test_y_hat = \n",
    "# -----------------------------------------\n",
    "\n",
    "plt.plot(test_x, test_y, 'o')\n",
    "plt.plot(test_x, test_y_hat, 'x')\n",
    "plt.plot(line_x, line_y, marker = 'o')\n",
    "plt.show()"
   ]
  },
  {
   "cell_type": "code",
   "execution_count": null,
   "metadata": {},
   "outputs": [],
   "source": []
  }
 ],
 "metadata": {
  "kernelspec": {
   "display_name": "Python 3",
   "language": "python",
   "name": "python3"
  },
  "language_info": {
   "codemirror_mode": {
    "name": "ipython",
    "version": 3
   },
   "file_extension": ".py",
   "mimetype": "text/x-python",
   "name": "python",
   "nbconvert_exporter": "python",
   "pygments_lexer": "ipython3",
   "version": "3.5.2"
  }
 },
 "nbformat": 4,
 "nbformat_minor": 1
}
